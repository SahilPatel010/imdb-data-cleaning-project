{
 "cells": [
  {
   "cell_type": "code",
   "execution_count": null,
   "id": "a03705da-3aa7-43c7-a435-bb8b8cdd2d66",
   "metadata": {},
   "outputs": [],
   "source": []
  }
 ],
 "metadata": {
  "kernelspec": {
   "display_name": "",
   "name": ""
  },
  "language_info": {
   "name": ""
  }
 },
 "nbformat": 4,
 "nbformat_minor": 5
}
